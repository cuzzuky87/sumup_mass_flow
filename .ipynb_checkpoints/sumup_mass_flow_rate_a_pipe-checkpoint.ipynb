{
 "cells": [
  {
   "cell_type": "code",
   "execution_count": 16,
   "metadata": {},
   "outputs": [],
   "source": [
    "import pandas as pd\n",
    "\n",
    "df_center = pd.read_csv('center.csv')"
   ]
  },
  {
   "cell_type": "code",
   "execution_count": 17,
   "metadata": {},
   "outputs": [
    {
     "data": {
      "text/html": [
       "<div>\n",
       "<style scoped>\n",
       "    .dataframe tbody tr th:only-of-type {\n",
       "        vertical-align: middle;\n",
       "    }\n",
       "\n",
       "    .dataframe tbody tr th {\n",
       "        vertical-align: top;\n",
       "    }\n",
       "\n",
       "    .dataframe thead th {\n",
       "        text-align: right;\n",
       "    }\n",
       "</style>\n",
       "<table border=\"1\" class=\"dataframe\">\n",
       "  <thead>\n",
       "    <tr style=\"text-align: right;\">\n",
       "      <th></th>\n",
       "      <th>x</th>\n",
       "      <th>y</th>\n",
       "    </tr>\n",
       "  </thead>\n",
       "  <tbody>\n",
       "    <tr>\n",
       "      <th>0</th>\n",
       "      <td>1</td>\n",
       "      <td>7</td>\n",
       "    </tr>\n",
       "    <tr>\n",
       "      <th>1</th>\n",
       "      <td>2</td>\n",
       "      <td>45</td>\n",
       "    </tr>\n",
       "    <tr>\n",
       "      <th>2</th>\n",
       "      <td>3</td>\n",
       "      <td>54</td>\n",
       "    </tr>\n",
       "    <tr>\n",
       "      <th>3</th>\n",
       "      <td>4</td>\n",
       "      <td>71</td>\n",
       "    </tr>\n",
       "    <tr>\n",
       "      <th>4</th>\n",
       "      <td>5</td>\n",
       "      <td>50</td>\n",
       "    </tr>\n",
       "    <tr>\n",
       "      <th>5</th>\n",
       "      <td>6</td>\n",
       "      <td>69</td>\n",
       "    </tr>\n",
       "    <tr>\n",
       "      <th>6</th>\n",
       "      <td>7</td>\n",
       "      <td>70</td>\n",
       "    </tr>\n",
       "    <tr>\n",
       "      <th>7</th>\n",
       "      <td>8</td>\n",
       "      <td>78</td>\n",
       "    </tr>\n",
       "    <tr>\n",
       "      <th>8</th>\n",
       "      <td>9</td>\n",
       "      <td>14</td>\n",
       "    </tr>\n",
       "    <tr>\n",
       "      <th>9</th>\n",
       "      <td>10</td>\n",
       "      <td>42</td>\n",
       "    </tr>\n",
       "    <tr>\n",
       "      <th>10</th>\n",
       "      <td>11</td>\n",
       "      <td>45</td>\n",
       "    </tr>\n",
       "    <tr>\n",
       "      <th>11</th>\n",
       "      <td>12</td>\n",
       "      <td>39</td>\n",
       "    </tr>\n",
       "  </tbody>\n",
       "</table>\n",
       "</div>"
      ],
      "text/plain": [
       "     x   y\n",
       "0    1   7\n",
       "1    2  45\n",
       "2    3  54\n",
       "3    4  71\n",
       "4    5  50\n",
       "5    6  69\n",
       "6    7  70\n",
       "7    8  78\n",
       "8    9  14\n",
       "9   10  42\n",
       "10  11  45\n",
       "11  12  39"
      ]
     },
     "execution_count": 17,
     "metadata": {},
     "output_type": "execute_result"
    }
   ],
   "source": [
    "df_center"
   ]
  },
  {
   "cell_type": "code",
   "execution_count": 18,
   "metadata": {},
   "outputs": [],
   "source": [
    "df_data = pd.read_csv('data.csv')"
   ]
  },
  {
   "cell_type": "code",
   "execution_count": 19,
   "metadata": {},
   "outputs": [],
   "source": [
    "df_data['mass_flow'] = df_data['area'] * df_data['velocity']"
   ]
  },
  {
   "cell_type": "code",
   "execution_count": 20,
   "metadata": {},
   "outputs": [
    {
     "data": {
      "text/html": [
       "<div>\n",
       "<style scoped>\n",
       "    .dataframe tbody tr th:only-of-type {\n",
       "        vertical-align: middle;\n",
       "    }\n",
       "\n",
       "    .dataframe tbody tr th {\n",
       "        vertical-align: top;\n",
       "    }\n",
       "\n",
       "    .dataframe thead th {\n",
       "        text-align: right;\n",
       "    }\n",
       "</style>\n",
       "<table border=\"1\" class=\"dataframe\">\n",
       "  <thead>\n",
       "    <tr style=\"text-align: right;\">\n",
       "      <th></th>\n",
       "      <th>x</th>\n",
       "      <th>y</th>\n",
       "      <th>area</th>\n",
       "      <th>velocity</th>\n",
       "      <th>mass_flow</th>\n",
       "    </tr>\n",
       "  </thead>\n",
       "  <tbody>\n",
       "    <tr>\n",
       "      <th>0</th>\n",
       "      <td>1</td>\n",
       "      <td>97</td>\n",
       "      <td>0.487130</td>\n",
       "      <td>0.531565</td>\n",
       "      <td>0.258941</td>\n",
       "    </tr>\n",
       "    <tr>\n",
       "      <th>1</th>\n",
       "      <td>2</td>\n",
       "      <td>45</td>\n",
       "      <td>0.324165</td>\n",
       "      <td>0.089389</td>\n",
       "      <td>0.028977</td>\n",
       "    </tr>\n",
       "    <tr>\n",
       "      <th>2</th>\n",
       "      <td>3</td>\n",
       "      <td>54</td>\n",
       "      <td>0.936940</td>\n",
       "      <td>0.452751</td>\n",
       "      <td>0.424200</td>\n",
       "    </tr>\n",
       "    <tr>\n",
       "      <th>3</th>\n",
       "      <td>4</td>\n",
       "      <td>71</td>\n",
       "      <td>0.067697</td>\n",
       "      <td>0.094618</td>\n",
       "      <td>0.006405</td>\n",
       "    </tr>\n",
       "    <tr>\n",
       "      <th>4</th>\n",
       "      <td>5</td>\n",
       "      <td>50</td>\n",
       "      <td>0.446705</td>\n",
       "      <td>0.661109</td>\n",
       "      <td>0.295321</td>\n",
       "    </tr>\n",
       "    <tr>\n",
       "      <th>5</th>\n",
       "      <td>6</td>\n",
       "      <td>69</td>\n",
       "      <td>0.425092</td>\n",
       "      <td>0.625654</td>\n",
       "      <td>0.265961</td>\n",
       "    </tr>\n",
       "    <tr>\n",
       "      <th>6</th>\n",
       "      <td>7</td>\n",
       "      <td>70</td>\n",
       "      <td>0.345799</td>\n",
       "      <td>0.134587</td>\n",
       "      <td>0.046540</td>\n",
       "    </tr>\n",
       "    <tr>\n",
       "      <th>7</th>\n",
       "      <td>8</td>\n",
       "      <td>78</td>\n",
       "      <td>0.905852</td>\n",
       "      <td>0.324212</td>\n",
       "      <td>0.293688</td>\n",
       "    </tr>\n",
       "    <tr>\n",
       "      <th>8</th>\n",
       "      <td>9</td>\n",
       "      <td>14</td>\n",
       "      <td>0.344591</td>\n",
       "      <td>0.886253</td>\n",
       "      <td>0.305394</td>\n",
       "    </tr>\n",
       "    <tr>\n",
       "      <th>9</th>\n",
       "      <td>10</td>\n",
       "      <td>42</td>\n",
       "      <td>0.425715</td>\n",
       "      <td>0.752694</td>\n",
       "      <td>0.320433</td>\n",
       "    </tr>\n",
       "    <tr>\n",
       "      <th>10</th>\n",
       "      <td>11</td>\n",
       "      <td>45</td>\n",
       "      <td>0.929551</td>\n",
       "      <td>0.627365</td>\n",
       "      <td>0.583167</td>\n",
       "    </tr>\n",
       "  </tbody>\n",
       "</table>\n",
       "</div>"
      ],
      "text/plain": [
       "     x   y      area  velocity  mass_flow\n",
       "0    1  97  0.487130  0.531565   0.258941\n",
       "1    2  45  0.324165  0.089389   0.028977\n",
       "2    3  54  0.936940  0.452751   0.424200\n",
       "3    4  71  0.067697  0.094618   0.006405\n",
       "4    5  50  0.446705  0.661109   0.295321\n",
       "5    6  69  0.425092  0.625654   0.265961\n",
       "6    7  70  0.345799  0.134587   0.046540\n",
       "7    8  78  0.905852  0.324212   0.293688\n",
       "8    9  14  0.344591  0.886253   0.305394\n",
       "9   10  42  0.425715  0.752694   0.320433\n",
       "10  11  45  0.929551  0.627365   0.583167"
      ]
     },
     "execution_count": 20,
     "metadata": {},
     "output_type": "execute_result"
    }
   ],
   "source": [
    "df_data"
   ]
  },
  {
   "cell_type": "code",
   "execution_count": 21,
   "metadata": {},
   "outputs": [],
   "source": [
    "import numpy as np\n",
    "from scipy.spatial import distance\n",
    "\n",
    "center = df_center[['x','y']]\n",
    "data_coord = df_data[['x','y']]\n",
    "distance_Mat = distance.cdist(center,data_coord,metric='euclidean')"
   ]
  },
  {
   "cell_type": "code",
   "execution_count": 22,
   "metadata": {},
   "outputs": [
    {
     "data": {
      "text/plain": [
       "array([[90.        , 38.01315562, 47.04253395, 64.07027392, 43.18564576,\n",
       "        62.20128616, 63.28506933, 71.34423593, 10.63014581, 36.138622  ,\n",
       "        39.29376541],\n",
       "       [52.0096145 ,  0.        ,  9.05538514, 26.07680962,  5.83095189,\n",
       "        24.33105012, 25.49509757, 33.54101966, 31.78049716,  8.54400375,\n",
       "         9.        ],\n",
       "       [43.0464865 ,  9.05538514,  0.        , 17.02938637,  4.47213595,\n",
       "        15.29705854, 16.4924225 , 24.51530134, 40.44749683, 13.89244399,\n",
       "        12.04159458],\n",
       "       [26.17250466, 26.07680962, 17.02938637,  0.        , 21.02379604,\n",
       "         2.82842712,  3.16227766,  8.06225775, 57.218878  , 29.61418579,\n",
       "        26.92582404],\n",
       "       [47.16990566,  5.83095189,  4.47213595, 21.02379604,  0.        ,\n",
       "        19.02629759, 20.09975124, 28.16025568, 36.22154055,  9.43398113,\n",
       "         7.81024968],\n",
       "       [28.44292531, 24.33105012, 15.29705854,  2.82842712, 19.02629759,\n",
       "         0.        ,  1.41421356,  9.21954446, 55.08175742, 27.29468813,\n",
       "        24.51530134],\n",
       "       [27.65863337, 25.49509757, 16.4924225 ,  3.16227766, 20.09975124,\n",
       "         1.41421356,  0.        ,  8.06225775, 56.0357029 , 28.16025568,\n",
       "        25.3179778 ],\n",
       "       [20.24845673, 33.54101966, 24.51530134,  8.06225775, 28.16025568,\n",
       "         9.21954446,  8.06225775,  0.        , 64.00781202, 36.05551275,\n",
       "        33.13608305],\n",
       "       [83.38465087, 31.78049716, 40.44749683, 57.218878  , 36.22154055,\n",
       "        55.08175742, 56.0357029 , 64.00781202,  0.        , 28.01785145,\n",
       "        31.06444913],\n",
       "       [55.73149917,  8.54400375, 13.89244399, 29.61418579,  9.43398113,\n",
       "        27.29468813, 28.16025568, 36.05551275, 28.01785145,  0.        ,\n",
       "         3.16227766],\n",
       "       [52.95280918,  9.        , 12.04159458, 26.92582404,  7.81024968,\n",
       "        24.51530134, 25.3179778 , 33.13608305, 31.06444913,  3.16227766,\n",
       "         0.        ],\n",
       "       [59.03388857, 11.66190379, 17.49285568, 32.984845  , 13.03840481,\n",
       "        30.59411708, 31.40063694, 39.20459157, 25.17935662,  3.60555128,\n",
       "         6.08276253]])"
      ]
     },
     "execution_count": 22,
     "metadata": {},
     "output_type": "execute_result"
    }
   ],
   "source": [
    "distance_Mat"
   ]
  },
  {
   "cell_type": "code",
   "execution_count": 37,
   "metadata": {},
   "outputs": [],
   "source": [
    "condition_mat = distance_Mat<10"
   ]
  },
  {
   "cell_type": "code",
   "execution_count": 54,
   "metadata": {},
   "outputs": [
    {
     "name": "stdout",
     "output_type": "stream",
     "text": [
      "12\n",
      "[0, 0, 0, 0, 0, 0, 0, 0, 0, 0, 0, 0]\n",
      "[0, 1.6520980314446456, 0.7484977526580656, 0.6125941344735565, 1.6520980314446456, 0.6125941344735565, 0.6125941344735565, 0.6125941344735565, 0.30539438246342726, 1.2278977350276228, 1.2278977350276228, 0.9036002787865798]\n"
     ]
    }
   ],
   "source": [
    "print(len(df_center))\n",
    "result=[0 for _ in range(len(df_center))]\n",
    "print(result)\n",
    "for i,row in enumerate(condition_mat):\n",
    "    for value,cond in zip(df_data['mass_flow'],row):\n",
    "        if cond:\n",
    "            result[i] = result[i] + value\n",
    "print(result)"
   ]
  },
  {
   "cell_type": "code",
   "execution_count": 23,
   "metadata": {},
   "outputs": [
    {
     "name": "stdout",
     "output_type": "stream",
     "text": [
      "[[False False False False False False False False False False False]\n",
      " [False  True  True False  True False False False False  True  True]\n",
      " [False  True  True False  True False False False False False False]\n",
      " [False False False  True False  True  True  True False False False]\n",
      " [False  True  True False  True False False False False  True  True]\n",
      " [False False False  True False  True  True  True False False False]\n",
      " [False False False  True False  True  True  True False False False]\n",
      " [False False False  True False  True  True  True False False False]\n",
      " [False False False False False False False False  True False False]\n",
      " [False  True False False  True False False False False  True  True]\n",
      " [False  True False False  True False False False False  True  True]\n",
      " [False False False False False False False False False  True  True]]\n"
     ]
    }
   ],
   "source": []
  }
 ],
 "metadata": {
  "kernelspec": {
   "display_name": "Python 3",
   "language": "python",
   "name": "python3"
  },
  "language_info": {
   "codemirror_mode": {
    "name": "ipython",
    "version": 3
   },
   "file_extension": ".py",
   "mimetype": "text/x-python",
   "name": "python",
   "nbconvert_exporter": "python",
   "pygments_lexer": "ipython3",
   "version": "3.6.8"
  }
 },
 "nbformat": 4,
 "nbformat_minor": 4
}
